{
 "cells": [
  {
   "cell_type": "code",
   "execution_count": 5,
   "metadata": {},
   "outputs": [
    {
     "data": {
      "text/plain": [
       "'C:\\\\Users\\\\aksab\\\\Jupyter\\\\vbar_cumulative_daily.html'"
      ]
     },
     "execution_count": 5,
     "metadata": {},
     "output_type": "execute_result"
    }
   ],
   "source": [
    "from bokeh.plotting import output_file,save,figure,show\n",
    "from bokeh.layouts import column\n",
    "from bokeh.models import DatetimeTickFormatter,ranges,Dropdown, SingleIntervalTicker, Label,HoverTool,ColumnDataSource,FactorRange\n",
    "\n",
    "\n",
    "import csv\n",
    "import numpy as np\n",
    "output_file('vbar_cumulative_daily.html')\n",
    "#output_notebook()\n",
    "with open(\"Book2.csv\") as csvfile:\n",
    "    csvdata = list(csv.reader(csvfile))\n",
    "\n",
    "DATE = [item[0] for item in csvdata]\n",
    "POS_COUNT = [item[1] for item in csvdata]\n",
    "DAILY_POS_COUNT = [item[2] for item in csvdata]\n",
    "data = {'DATE' : DATE,\n",
    "        'POS_COUNT': POS_COUNT,\n",
    "        'DAILY_POS_COUNT':DAILY_POS_COUNT}\n",
    "x = data['DATE']\n",
    "pos_counts = data['POS_COUNT']\n",
    "daily_counts = data['DAILY_POS_COUNT']\n",
    "\n",
    "source = ColumnDataSource(data=dict(x=x, pos_counts=pos_counts,daily_counts=daily_counts))\n",
    "\n",
    "mytext1_ypos = int(pos_counts[len(pos_counts)-1])-250\n",
    "mytext1 = Label(x=1, y=mytext1_ypos, text='Day 0 (first detected case): 07 March 2020')\n",
    "#print(data)\n",
    "plot1 = figure(x_range=FactorRange(*x),plot_width=700,plot_height=350,title=\"Number of positive cases (Cumulative)\")\n",
    "\n",
    "plot1.vbar('x', top='pos_counts', width=0.9, source=source)\n",
    "plot1.title.text_font_size = \"15pt\"\n",
    "plot1.xaxis.axis_label = \"Day\"\n",
    "plot1.xaxis.axis_label_text_font = \"times\"\n",
    "plot1.xaxis.axis_label_text_font_style = \"normal\"\n",
    "plot1.xaxis.major_label_text_font_size = \"10pt\"\n",
    "plot1.xaxis.major_label_orientation = np.pi/2\n",
    "plot1.xaxis.axis_label_text_font_size = \"15pt\"\n",
    "plot1.xaxis.ticker = SingleIntervalTicker(interval=2)\n",
    "plot1.yaxis.axis_label = \"No. of Cases\"\n",
    "plot1.yaxis.axis_label_text_font = \"times\"\n",
    "plot1.yaxis.axis_label_text_font_style = \"normal\"\n",
    "plot1.yaxis.major_label_text_font_size = \"10pt\"\n",
    "plot1.yaxis.axis_label_text_font_size = \"15pt\"\n",
    "\n",
    "plot1.add_tools(HoverTool(tooltips=[(\"DATE\", \"@x\"), (\"No. of cases\", \"@pos_counts\")]))\n",
    "plot1.add_layout(mytext1)\n",
    "\n",
    "mytext2_ypos = int(daily_counts[len(daily_counts)-1])+145\n",
    "mytext2 = Label(x=1, y=mytext2_ypos, text='Day 0 (first detected case): 07 March 2020')\n",
    "\n",
    "\n",
    "plot2 = figure(x_range=x, plot_width=700,plot_height=350,title=\"Number of daily positive cases\")\n",
    "\n",
    "plot2.vbar(x='x', top='daily_counts', width=0.9, source=source)\n",
    "plot2.title.text_font_size = \"15pt\"\n",
    "plot2.xaxis.axis_label = \"Day\"\n",
    "plot2.xaxis.axis_label_text_font = \"times\"\n",
    "plot2.xaxis.axis_label_text_font_style = \"normal\"\n",
    "plot2.xaxis.major_label_text_font_size = \"10pt\"\n",
    "plot2.xaxis.major_label_orientation = np.pi/2\n",
    "plot2.xaxis.axis_label_text_font_size = \"15pt\"\n",
    "plot2.xaxis.ticker = SingleIntervalTicker(interval=2)\n",
    "plot2.yaxis.axis_label = \"No. of Cases\"\n",
    "plot2.yaxis.axis_label_text_font = \"times\"\n",
    "plot2.yaxis.axis_label_text_font_style = \"normal\"\n",
    "plot2.yaxis.major_label_text_font_size = \"10pt\"\n",
    "plot2.yaxis.axis_label_text_font_size = \"15pt\"\n",
    "\n",
    "plot2.add_tools(HoverTool(tooltips=[(\"DATE\", \"@x\"), (\"No. of cases\", \"@daily_counts\")]))\n",
    "plot2.add_layout(mytext2)\n",
    "show(column(plot1,plot2))"
   ]
  },
  {
   "cell_type": "code",
   "execution_count": null,
   "metadata": {},
   "outputs": [],
   "source": []
  }
 ],
 "metadata": {
  "kernelspec": {
   "display_name": "Python 3",
   "language": "python",
   "name": "python3"
  },
  "language_info": {
   "codemirror_mode": {
    "name": "ipython",
    "version": 3
   },
   "file_extension": ".py",
   "mimetype": "text/x-python",
   "name": "python",
   "nbconvert_exporter": "python",
   "pygments_lexer": "ipython3",
   "version": "3.7.3"
  }
 },
 "nbformat": 4,
 "nbformat_minor": 2
}
